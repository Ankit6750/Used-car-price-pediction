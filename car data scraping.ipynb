{
 "cells": [
  {
   "cell_type": "code",
   "execution_count": 21,
   "id": "c0b1dbe3",
   "metadata": {},
   "outputs": [],
   "source": [
    "# import required library for data collection\n",
    "from selenium import webdriver\n",
    "from selenium.webdriver.common.keys import Keys\n",
    "from selenium.webdriver.common.by import By\n",
    "import pandas as pd\n",
    "from selenium.common.exceptions import NoSuchElementException\n",
    "from selenium.webdriver.support import expected_conditions as EC\n",
    "from selenium.webdriver.support.ui import WebDriverWait\n",
    "import time"
   ]
  },
  {
   "cell_type": "code",
   "execution_count": 34,
   "id": "4c800929",
   "metadata": {},
   "outputs": [],
   "source": [
    "dr1=webdriver.Chrome(r'F:\\Python\\chromedriver.exe')\n"
   ]
  },
  {
   "cell_type": "code",
   "execution_count": 35,
   "id": "226dc1e3",
   "metadata": {},
   "outputs": [],
   "source": [
    "cities=['Nasik','Chandigarh','Lucknow','Indore','Bhopal','Delhi','Kochi','Mumbai','Pune','Bengaluru','Chennai','Hyderabad','Kolkata','Vadodara','Surat','Rajkot','Mysore','Ahmedabad','Rohtak','Jaipur','Panipat','Ludhiana','Meerut','Nagpur','Patna']"
   ]
  },
  {
   "cell_type": "code",
   "execution_count": 36,
   "id": "6c66cac1",
   "metadata": {},
   "outputs": [
    {
     "data": {
      "text/plain": [
       "25"
      ]
     },
     "execution_count": 36,
     "metadata": {},
     "output_type": "execute_result"
    }
   ],
   "source": [
    "len(cities)"
   ]
  },
  {
   "cell_type": "code",
   "execution_count": 37,
   "id": "b2ba7a14",
   "metadata": {},
   "outputs": [],
   "source": [
    "dr1.get('https://www.cars24.com/buy-used-car?sort=P&storeCityId=5&pinId=122001')\n",
    "time.sleep(2)\n",
    "dr1.maximize_window()"
   ]
  },
  {
   "cell_type": "code",
   "execution_count": 38,
   "id": "02464454",
   "metadata": {},
   "outputs": [],
   "source": [
    "select=dr1.find_element_by_xpath('//div[@class=\"js-content\"]/div[1]//div[2]//div[1]/div/div/p')\n",
    "select.click()"
   ]
  },
  {
   "cell_type": "code",
   "execution_count": 39,
   "id": "221a4082",
   "metadata": {},
   "outputs": [],
   "source": [
    "def append(path,list_):\n",
    "    for i in path:\n",
    "        list_.append(i.text)"
   ]
  },
  {
   "cell_type": "code",
   "execution_count": 40,
   "id": "d79b0eb4",
   "metadata": {},
   "outputs": [],
   "source": [
    "def scroll_down():\n",
    "    for i in range(30):\n",
    "        dr1.execute_script(\"window.scrollTo(0,129999)\")\n",
    "        time.sleep(0.5)"
   ]
  },
  {
   "cell_type": "code",
   "execution_count": 41,
   "id": "699b4baf",
   "metadata": {},
   "outputs": [],
   "source": [
    "urls=[]\n",
    "car_name=[]\n",
    "car_transmission=[]\n",
    "car_variant=[]\n",
    "km_driven=[]\n",
    "car_owner=[]\n",
    "fuel_type=[]\n",
    "price=[]\n",
    "car_city=[]"
   ]
  },
  {
   "cell_type": "code",
   "execution_count": 42,
   "id": "a6b1ecb3",
   "metadata": {},
   "outputs": [
    {
     "name": "stdout",
     "output_type": "stream",
     "text": [
      "Nasik\n",
      "20 20 20 20 20 20 20 20\n",
      "Chandigarh\n",
      "154 154 154 154 154 154 154 154\n",
      "Lucknow\n",
      "33 33 33 33 33 33 33 33\n",
      "Indore\n",
      "3 3 3 3 3 3 3 3\n",
      "Bhopal\n",
      "17 17 17 17 17 17 17 17\n",
      "Delhi\n",
      "126 126 126 126 126 126 126 126\n",
      "Kochi\n",
      "118 118 118 118 118 118 118 118\n",
      "Mumbai\n",
      "410 410 410 410 410 410 410 410\n",
      "Pune\n",
      "410 410 410 410 410 410 410 410\n",
      "Bengaluru\n",
      "262 262 262 262 262 262 262 262\n",
      "Chennai\n",
      "223 223 223 223 223 223 223 223\n",
      "Hyderabad\n",
      "39 39 39 39 39 39 39 39\n",
      "Kolkata\n",
      "148 148 148 148 148 148 148 148\n",
      "Vadodara\n",
      "216 216 216 216 216 216 216 216\n",
      "Surat\n",
      "273 273 273 273 273 273 273 273\n",
      "Rajkot\n",
      "20 20 20 20 20 20 20 20\n",
      "Mysore\n",
      "20 20 20 20 20 20 20 20\n",
      "Ahmedabad\n",
      "273 273 273 273 273 273 273 273\n",
      "Rohtak\n",
      "119 119 119 119 119 119 119 119\n",
      "Jaipur\n",
      "273 273 273 273 273 273 273 273\n",
      "Panipat\n",
      "120 120 120 120 120 120 120 120\n",
      "Ludhiana\n",
      "153 153 153 153 153 153 153 153\n",
      "Meerut\n",
      "113 113 113 113 113 113 113 113\n",
      "Nagpur\n",
      "62 62 62 62 62 62 62 62\n",
      "Patna\n",
      "44 44 44 44 44 44 44 44\n"
     ]
    }
   ],
   "source": [
    "for city in cities:\n",
    "    search=dr1.find_element_by_xpath('//div[@class=\"_6QaMX\"]/input')\n",
    "    search.send_keys(Keys.CONTROL,'a')\n",
    "    search.send_keys(Keys.BACKSPACE)\n",
    "    search.send_keys(city)\n",
    "    time.sleep(1)\n",
    "    \n",
    "    try:\n",
    "        to_click = dr1.find_element_by_xpath(\"//ul[@class='_16Bvy']/li\")\n",
    "    except:\n",
    "        to_click = dr1.find_element_by_xpath(\"/html/body/div[1]/div[6]/div/div/div/div[2]/div/div/ul/div/li\")\n",
    "           \n",
    "    to_click.click()\n",
    "    time.sleep(5)\n",
    "    scroll_down()\n",
    "    print(city)\n",
    "    \n",
    "    links=dr1.find_elements_by_xpath('//a[@class=\"_9Ue0B\"]')\n",
    "    names=dr1.find_elements_by_xpath('//div[@class=\"_1jpRU\"]/h2')\n",
    "    transmission=dr1.find_elements_by_xpath('//div[@class=\"_1l4fi\"]/div/div/p/span')\n",
    "    models=dr1.find_elements_by_xpath('//div[@class=\"_1l4fi\"]/div/div/p')\n",
    "    km_dr=dr1.find_elements_by_xpath('//div[@class=\"_1l4fi\"]/ul/li[1]')\n",
    "    owner=dr1.find_elements_by_xpath('//div[@class=\"_1l4fi\"]/ul/li[2]')\n",
    "    fuel=dr1.find_elements_by_xpath('//div[@class=\"_1l4fi\"]/ul/li[3]')\n",
    "    pric=dr1.find_elements_by_xpath('//div[@class=\"_19zc5\"]/div[2]/span')\n",
    "    \n",
    "    for url in links:\n",
    "        urls.append(url.get_attribute('href'))\n",
    "    \n",
    "    append(names,car_name)\n",
    "    append(transmission,car_transmission)\n",
    "    append(models,car_variant)\n",
    "    append(km_dr,km_driven)\n",
    "    append(owner,car_owner)\n",
    "    append(fuel,fuel_type)\n",
    "    append(pric,price)\n",
    "    print(len(links),len(names),len(transmission),len(models),len(km_dr),len(owner),len(fuel),len(pric))\n",
    "    \n",
    "    length=len(names)\n",
    "    \n",
    "    for i in range(length):\n",
    "        car_city.append(city)\n",
    "    \n",
    "    \n",
    "    selection = dr1.find_element_by_xpath(\"/html/body/div[1]/div[1]/div[2]/div/div/div[1]/p\")\n",
    "    selection.click()"
   ]
  },
  {
   "cell_type": "code",
   "execution_count": 43,
   "id": "8163e684",
   "metadata": {},
   "outputs": [],
   "source": [
    "c24_df = pd.DataFrame({}) # Initiating empty data frame\n",
    "\n",
    "c24_df['Name'] = car_name\n",
    "c24_df['Transmission']=car_transmission\n",
    "c24_df['Model_name']=car_variant\n",
    "c24_df['km_driven']=km_driven\n",
    "c24_df['Owner']=car_owner\n",
    "c24_df['Fuel_type']=fuel_type\n",
    "c24_df['Price']=price\n",
    "c24_df['City']=car_city"
   ]
  },
  {
   "cell_type": "code",
   "execution_count": null,
   "id": "d77ae10c",
   "metadata": {},
   "outputs": [],
   "source": [
    "c24_df"
   ]
  },
  {
   "cell_type": "code",
   "execution_count": null,
   "id": "188b55db",
   "metadata": {},
   "outputs": [],
   "source": [
    "c24_df.to_csv('cars_data.csv')"
   ]
  },
  {
   "cell_type": "code",
   "execution_count": null,
   "id": "9401e8a2",
   "metadata": {},
   "outputs": [],
   "source": [
    "dr1.quit()"
   ]
  }
 ],
 "metadata": {
  "kernelspec": {
   "display_name": "Python 3",
   "language": "python",
   "name": "python3"
  },
  "language_info": {
   "codemirror_mode": {
    "name": "ipython",
    "version": 3
   },
   "file_extension": ".py",
   "mimetype": "text/x-python",
   "name": "python",
   "nbconvert_exporter": "python",
   "pygments_lexer": "ipython3",
   "version": "3.8.8"
  }
 },
 "nbformat": 4,
 "nbformat_minor": 5
}
